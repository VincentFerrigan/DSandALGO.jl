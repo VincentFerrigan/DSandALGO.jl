{
 "cells": [
  {
   "cell_type": "markdown",
   "id": "fd2b2ccd",
   "metadata": {},
   "source": [
    "# Benchmarks"
   ]
  },
  {
   "cell_type": "code",
   "execution_count": 58,
   "id": "a093a637",
   "metadata": {},
   "outputs": [],
   "source": [
    "using Revise\n",
    "using BenchmarkTools\n",
    "using DataFrames\n",
    "using Plots\n",
    "using Random\n",
    "using Unitful"
   ]
  },
  {
   "cell_type": "code",
   "execution_count": 59,
   "id": "6184436b",
   "metadata": {},
   "outputs": [
    {
     "name": "stderr",
     "output_type": "stream",
     "text": [
      "WARNING: replacing module MyLL.\n",
      "WARNING: replacing module MyV.\n",
      "WARNING: using MyLL.createrandom_dllist in module Main conflicts with an existing identifier.\n",
      "WARNING: using MyLL.createrandom_sllist in module Main conflicts with an existing identifier.\n",
      "WARNING: using MyLL.SinglyLinkedList in module Main conflicts with an existing identifier.\n",
      "WARNING: using MyLL.DoublyLinkedList in module Main conflicts with an existing identifier.\n",
      "WARNING: using MyV.createrandomvector in module Main conflicts with an existing identifier.\n"
     ]
    }
   ],
   "source": [
    "include(\"../src/MyLL.jl\")\n",
    "include(\"../src/MyV.jl\")\n",
    "using .MyLL\n",
    "using .MyV"
   ]
  },
  {
   "cell_type": "markdown",
   "id": "7540165c",
   "metadata": {},
   "source": [
    "## Singly\n",
    "### Comparing Singly Linked Lists to Vectors"
   ]
  },
  {
   "cell_type": "markdown",
   "id": "db1f6f27",
   "metadata": {},
   "source": [
    "1. Vary the size of a linked list and\n",
    "   1. append it to a fixed size linked list\n",
    "   2. prepend it to a fixed size linked list\n",
    "2. Vary the size of a vector and\n",
    "   1. append it to a fixed size vector i.e. copy both to a new vector\n",
    "   2. prepend it to a fixed size vector i.e. copy both to a new vector\n",
    "3. Stack operations, lists vs vectors (how?)"
   ]
  },
  {
   "cell_type": "markdown",
   "id": "20b3cc33",
   "metadata": {},
   "source": [
    "## Doubly\n",
    "### Comparing Singly vs Doubly Linked Lists"
   ]
  },
  {
   "cell_type": "markdown",
   "id": "abf5ce5f",
   "metadata": {},
   "source": [
    "* Keep a list of n elements and perform k remove and add operations\n",
    "* Remove and add it back i.e. \n",
    "  * item = popat!(list, i) and then\n",
    "  * pushfirst(list, item)!\n",
    "\n",
    "create a vector with length k\n",
    "v[i] = random number from 1:n\n",
    "\n",
    "choose a random sequence of indexes from the vector"
   ]
  },
  {
   "cell_type": "code",
   "execution_count": 80,
   "id": "3e57e50c",
   "metadata": {},
   "outputs": [
    {
     "data": {
      "text/plain": [
       "doublybench (generic function with 1 method)"
      ]
     },
     "metadata": {},
     "output_type": "display_data"
    }
   ],
   "source": [
    "function doublybench(n, k)\n",
    "\n",
    "    sequence_vector = createrandomvector(k, n)\n",
    "    singlylinked_list = createrandom_sllist(n)\n",
    "    doublylinked_list = createrandom_dllist(n)\n",
    "\n",
    "    sll_time = @elapsed begin\n",
    "        for i in eachindex(sequence_vector)\n",
    "            pushfirst!(singlylinked_list, popat!(singlylinked_list, sequence_vector[i]))\n",
    "        end\n",
    "    end\n",
    "\n",
    "    dll_time = @elapsed begin\n",
    "        for i in eachindex(sequence_vector)\n",
    "            pushfirst!(doublylinked_list, popat!(doublylinked_list, sequence_vector[i]))\n",
    "        end\n",
    "    end\n",
    "    return n, k, sll_time*u\"ns\", dll_time*u\"ns\" # u stands for unit and ns for nanosecunds\n",
    "end"
   ]
  },
  {
   "cell_type": "code",
   "execution_count": 90,
   "id": "928c5fd4",
   "metadata": {},
   "outputs": [],
   "source": [
    "k = 1000 # k operations\n",
    "\n",
    "benchvector = Vector(undef, 0)\n",
    "for n = 100000:100000:1000000 \n",
    "    push!(benchvector, doublybench(n, k))\n",
    "end"
   ]
  },
  {
   "cell_type": "code",
   "execution_count": 91,
   "id": "be1cac1c",
   "metadata": {},
   "outputs": [
    {
     "name": "stdout",
     "output_type": "stream",
     "text": [
      "(100000, 1000, 0.180947266 ns, 0.090932313 ns)\n",
      "(200000, 1000, 0.363947781 ns, 0.19382245 ns)\n",
      "(300000, 1000, 0.880057274 ns, 0.343958595 ns)\n",
      "(400000, 1000, 0.91118367 ns, 0.477164611 ns)\n",
      "(500000, 1000, 1.358067947 ns, 0.773830694 ns)\n",
      "(600000, 1000, 2.398195865 ns, 0.935602868 ns)\n",
      "(700000, 1000, 2.442772615 ns, 1.50625226 ns)\n",
      "(800000, 1000, 2.546316137 ns, 1.266844354 ns)\n",
      "(900000, 1000, 3.618910839 ns, 1.415197444 ns)\n",
      "(1000000, 1000, 3.186418639 ns, 1.998141858 ns)\n"
     ]
    }
   ],
   "source": [
    "for timedoperation in benchvector\n",
    "    println(timedoperation)\n",
    "end"
   ]
  },
  {
   "cell_type": "markdown",
   "id": "48d7464e",
   "metadata": {},
   "source": [
    "\n",
    "## TODO: Data manipulation\n",
    "* Ratio,  \n",
    "  * Growth (within list)\n",
    "  * Difference between lists\n",
    "* Plots\n",
    "  * do this with Plots.jl\n",
    "* n and k in a more readable way\n",
    "  * e.g. 10 000 instead of 10000 \n",
    "* Manipulate time units. \n",
    "  * E.g. from ns to ms. Do this with Unitful\n"
   ]
  },
  {
   "cell_type": "code",
   "execution_count": 92,
   "id": "7fff5c78",
   "metadata": {},
   "outputs": [
    {
     "data": {
      "text/html": [
       "<div class=\"data-frame\"><p>10 rows × 4 columns</p><table class=\"data-frame\"><thead><tr><th></th><th>n_elements</th><th>k_operations</th><th>SinglyLinkedList</th><th>DoublyLinkedList</th></tr><tr><th></th><th title=\"Int64\">Int64</th><th title=\"Int64\">Int64</th><th title=\"Quantity{Float64, 𝐓, Unitful.FreeUnits{(ns,), 𝐓, nothing}}\">Quantity…</th><th title=\"Quantity{Float64, 𝐓, Unitful.FreeUnits{(ns,), 𝐓, nothing}}\">Quantity…</th></tr></thead><tbody><tr><th>1</th><td>100000</td><td>1000</td><td>0.180947 ns</td><td>0.0909323 ns</td></tr><tr><th>2</th><td>200000</td><td>1000</td><td>0.363948 ns</td><td>0.193822 ns</td></tr><tr><th>3</th><td>300000</td><td>1000</td><td>0.880057 ns</td><td>0.343959 ns</td></tr><tr><th>4</th><td>400000</td><td>1000</td><td>0.911184 ns</td><td>0.477165 ns</td></tr><tr><th>5</th><td>500000</td><td>1000</td><td>1.35807 ns</td><td>0.773831 ns</td></tr><tr><th>6</th><td>600000</td><td>1000</td><td>2.3982 ns</td><td>0.935603 ns</td></tr><tr><th>7</th><td>700000</td><td>1000</td><td>2.44277 ns</td><td>1.50625 ns</td></tr><tr><th>8</th><td>800000</td><td>1000</td><td>2.54632 ns</td><td>1.26684 ns</td></tr><tr><th>9</th><td>900000</td><td>1000</td><td>3.61891 ns</td><td>1.4152 ns</td></tr><tr><th>10</th><td>1000000</td><td>1000</td><td>3.18642 ns</td><td>1.99814 ns</td></tr></tbody></table></div>"
      ],
      "text/latex": [
       "\\begin{tabular}{r|cccc}\n",
       "\t& n\\_elements & k\\_operations & SinglyLinkedList & DoublyLinkedList\\\\\n",
       "\t\\hline\n",
       "\t& Int64 & Int64 & Quantity… & Quantity…\\\\\n",
       "\t\\hline\n",
       "\t1 & 100000 & 1000 & 0.180947 ns & 0.0909323 ns \\\\\n",
       "\t2 & 200000 & 1000 & 0.363948 ns & 0.193822 ns \\\\\n",
       "\t3 & 300000 & 1000 & 0.880057 ns & 0.343959 ns \\\\\n",
       "\t4 & 400000 & 1000 & 0.911184 ns & 0.477165 ns \\\\\n",
       "\t5 & 500000 & 1000 & 1.35807 ns & 0.773831 ns \\\\\n",
       "\t6 & 600000 & 1000 & 2.3982 ns & 0.935603 ns \\\\\n",
       "\t7 & 700000 & 1000 & 2.44277 ns & 1.50625 ns \\\\\n",
       "\t8 & 800000 & 1000 & 2.54632 ns & 1.26684 ns \\\\\n",
       "\t9 & 900000 & 1000 & 3.61891 ns & 1.4152 ns \\\\\n",
       "\t10 & 1000000 & 1000 & 3.18642 ns & 1.99814 ns \\\\\n",
       "\\end{tabular}\n"
      ],
      "text/plain": [
       "\u001b[1m10×4 DataFrame\u001b[0m\n",
       "\u001b[1m Row \u001b[0m│\u001b[1m n_elements \u001b[0m\u001b[1m k_operations \u001b[0m\u001b[1m SinglyLinkedList \u001b[0m\u001b[1m DoublyLinkedList \u001b[0m\n",
       "\u001b[1m     \u001b[0m│\u001b[90m Int64      \u001b[0m\u001b[90m Int64        \u001b[0m\u001b[90m Quantity…        \u001b[0m\u001b[90m Quantity…        \u001b[0m\n",
       "─────┼──────────────────────────────────────────────────────────────\n",
       "   1 │     100000          1000       0.180947 ns      0.0909323 ns\n",
       "   2 │     200000          1000       0.363948 ns       0.193822 ns\n",
       "   3 │     300000          1000       0.880057 ns       0.343959 ns\n",
       "   4 │     400000          1000       0.911184 ns       0.477165 ns\n",
       "   5 │     500000          1000        1.35807 ns       0.773831 ns\n",
       "   6 │     600000          1000         2.3982 ns       0.935603 ns\n",
       "   7 │     700000          1000        2.44277 ns        1.50625 ns\n",
       "   8 │     800000          1000        2.54632 ns        1.26684 ns\n",
       "   9 │     900000          1000        3.61891 ns         1.4152 ns\n",
       "  10 │    1000000          1000        3.18642 ns        1.99814 ns"
      ]
     },
     "metadata": {},
     "output_type": "display_data"
    }
   ],
   "source": [
    "df = DataFrame([[benchvector[k][kk] for k in 1:length(benchvector)] for kk in 1:length(benchvector[1])], [:n_elements, :k_operations, :SinglyLinkedList, :DoublyLinkedList])"
   ]
  },
  {
   "cell_type": "code",
   "execution_count": null,
   "id": "7fe58d3c",
   "metadata": {},
   "outputs": [],
   "source": [
    "fig = plot()"
   ]
  },
  {
   "cell_type": "code",
   "execution_count": 67,
   "id": "25931249",
   "metadata": {},
   "outputs": [
    {
     "name": "stdout",
     "output_type": "stream",
     "text": [
      "[8, 6, 10, 7, 3]\n",
      "sll before\n",
      "86 22 58 41 27 80 11 82 68 62 \n",
      "after before\n",
      "82 86 22 58 41 27 80 11 68 62 \n",
      "27 82 86 22 58 41 80 11 68 62 \n",
      "62 27 82 86 22 58 41 80 11 68 \n",
      "41 62 27 82 86 22 58 80 11 68 \n",
      "27 41 62 82 86 22 58 80 11 68 \n",
      "[8, 6, 10, 7, 3]\n",
      "dll before\n",
      "80 33 79 11 89 17 46 83 37 57 \n",
      "dll before\n",
      "83 80 33 79 11 89 17 46 37 57 \n",
      "89 83 80 33 79 11 17 46 37 57 \n",
      "57 89 83 80 33 79 11 17 46 37 \n",
      "11 57 89 83 80 33 79 17 46 37 \n",
      "89 11 57 83 80 33 79 17 46 37 \n"
     ]
    }
   ],
   "source": [
    "# testar att det funkar\n",
    "k = 5\n",
    "n = 10\n",
    "sequence_vector = createrandomvector(k, n)\n",
    "singlylinked_list = createrandom_sllist(n)\n",
    "doublylinked_list = createrandom_dllist(n)\n",
    "\n",
    "println(sequence_vector)\n",
    "println(\"sll before\")\n",
    "println(singlylinked_list)\n",
    "println(\"after before\")\n",
    "for i in eachindex(sequence_vector)\n",
    "    pushfirst!(singlylinked_list, popat!(singlylinked_list, sequence_vector[i]))\n",
    "    println(singlylinked_list)\n",
    "end\n",
    "\n",
    "println(sequence_vector)\n",
    "println(\"dll before\")\n",
    "println(doublylinked_list)\n",
    "println(\"dll before\")\n",
    "for i in eachindex(sequence_vector)\n",
    "    pushfirst!(doublylinked_list, popat!(doublylinked_list, sequence_vector[i]))\n",
    "    println(doublylinked_list)\n",
    "end"
   ]
  },
  {
   "cell_type": "code",
   "execution_count": null,
   "id": "9bf6f086",
   "metadata": {},
   "outputs": [],
   "source": []
  }
 ],
 "metadata": {
  "kernelspec": {
   "display_name": "Julia 1.8.0",
   "language": "julia",
   "name": "julia-1.8"
  },
  "language_info": {
   "file_extension": ".jl",
   "mimetype": "application/julia",
   "name": "julia",
   "version": "1.8.0"
  }
 },
 "nbformat": 4,
 "nbformat_minor": 5
}
