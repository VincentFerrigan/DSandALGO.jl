{
 "cells": [
  {
   "cell_type": "markdown",
   "id": "fd2b2ccd",
   "metadata": {},
   "source": [
    "# Benchmarks"
   ]
  },
  {
   "cell_type": "code",
   "execution_count": 1,
   "id": "a093a637",
   "metadata": {},
   "outputs": [],
   "source": [
    "using Revise\n",
    "using BenchmarkTools\n",
    "using DataFrames\n",
    "using Plots\n",
    "using Random\n",
    "using Unitful"
   ]
  },
  {
   "cell_type": "code",
   "execution_count": 2,
   "id": "6184436b",
   "metadata": {},
   "outputs": [],
   "source": [
    "include(\"../src/MyLL.jl\")\n",
    "include(\"../src/MyV.jl\")\n",
    "using .MyLL\n",
    "using .MyV"
   ]
  },
  {
   "cell_type": "markdown",
   "id": "7540165c",
   "metadata": {},
   "source": [
    "## Singly\n",
    "### Comparing Singly Linked Lists to Vectors"
   ]
  },
  {
   "cell_type": "markdown",
   "id": "db1f6f27",
   "metadata": {},
   "source": [
    "1. Vary the size of a linked list and\n",
    "   1. append it to a fixed size linked list\n",
    "   2. prepend it to a fixed size linked list\n",
    "2. Vary the size of a vector and\n",
    "   1. append it to a fixed size vector i.e. copy both to a new vector\n",
    "   2. prepend it to a fixed size vector i.e. copy both to a new vector\n",
    "3. Stack operations, lists vs vectors (how?)"
   ]
  },
  {
   "cell_type": "markdown",
   "id": "20b3cc33",
   "metadata": {},
   "source": [
    "## Doubly\n",
    "### Comparing Singly vs Doubly Linked Lists"
   ]
  },
  {
   "cell_type": "markdown",
   "id": "abf5ce5f",
   "metadata": {},
   "source": [
    "* Keep a list of n elements and perform k remove and add operations\n",
    "* Remove and add it back i.e. \n",
    "  * item = popat!(list, i) and then\n",
    "  * pushfirst(list, item)!\n",
    "\n",
    "create a vector with length k\n",
    "v[i] = random number from 1:n\n",
    "\n",
    "choose a random sequence of indexes from the vector"
   ]
  },
  {
   "cell_type": "code",
   "execution_count": 3,
   "id": "3e57e50c",
   "metadata": {},
   "outputs": [
    {
     "data": {
      "text/plain": [
       "doublybench (generic function with 1 method)"
      ]
     },
     "metadata": {},
     "output_type": "display_data"
    }
   ],
   "source": [
    "function doublybench(n, k)\n",
    "\n",
    "    sequence_vector = createrandomvector(k, n)\n",
    "    singlylinked_list = createrandom_sllist(n)\n",
    "    doublylinked_list = createrandom_dllist(n)\n",
    "\n",
    "    sll_time = @elapsed begin\n",
    "        for i in eachindex(sequence_vector)\n",
    "            pushfirst!(singlylinked_list, popat!(singlylinked_list, sequence_vector[i]))\n",
    "        end\n",
    "    end\n",
    "\n",
    "    dll_time = @elapsed begin\n",
    "        for i in eachindex(sequence_vector)\n",
    "            pushfirst!(doublylinked_list, popat!(doublylinked_list, sequence_vector[i]))\n",
    "        end\n",
    "    end\n",
    "    return n, k, sll_time*u\"ns\", dll_time*u\"ns\" # u stands for unit and ns for nanosecunds\n",
    "end"
   ]
  },
  {
   "cell_type": "code",
   "execution_count": 4,
   "id": "928c5fd4",
   "metadata": {},
   "outputs": [],
   "source": [
    "k = 1000 # k operations\n",
    "\n",
    "benchvector = Vector(undef, 0)\n",
    "for n = 100000:100000:1000000 \n",
    "    push!(benchvector, doublybench(n, k))\n",
    "end"
   ]
  },
  {
   "cell_type": "code",
   "execution_count": 5,
   "id": "be1cac1c",
   "metadata": {},
   "outputs": [
    {
     "name": "stdout",
     "output_type": "stream",
     "text": [
      "(100000, 1000, 0.198046297 ns, 0.128424486 ns)\n",
      "(200000, 1000, 0.421393717 ns, 0.193097404 ns)\n",
      "(300000, 1000, 0.59397319 ns, 0.330072873 ns)\n",
      "(400000, 1000, 1.373592601 ns, 0.486547153 ns)\n",
      "(500000, 1000, 1.362896675 ns, 0.712859909 ns)\n",
      "(600000, 1000, 2.324090562 ns, 0.903677678 ns)\n",
      "(700000, 1000, 2.051419107 ns, 1.096031196 ns)\n",
      "(800000, 1000, 2.74295111 ns, 1.181002731 ns)\n",
      "(900000, 1000, 2.81873173 ns, 1.637956119 ns)\n",
      "(1000000, 1000, 3.181744865 ns, 1.991785891 ns)\n"
     ]
    }
   ],
   "source": [
    "for timedoperation in benchvector\n",
    "    println(timedoperation)\n",
    "end"
   ]
  },
  {
   "cell_type": "markdown",
   "id": "48d7464e",
   "metadata": {},
   "source": [
    "\n",
    "## TODO: Data manipulation\n",
    "* Ratio,  \n",
    "  * Growth (within list)\n",
    "  * Difference between lists\n",
    "* Plots\n",
    "  * do this with Plots.jl\n",
    "* n and k in a more readable way\n",
    "  * e.g. 10 000 instead of 10000 \n",
    "* Manipulate time units. \n",
    "  * E.g. from ns to ms. Do this with Unitful\n"
   ]
  },
  {
   "cell_type": "code",
   "execution_count": 6,
   "id": "7fff5c78",
   "metadata": {},
   "outputs": [
    {
     "data": {
      "text/html": [
       "<div class=\"data-frame\"><p>10 rows × 4 columns</p><table class=\"data-frame\"><thead><tr><th></th><th>n_elements</th><th>k_operations</th><th>SinglyLinkedList</th><th>DoublyLinkedList</th></tr><tr><th></th><th title=\"Int64\">Int64</th><th title=\"Int64\">Int64</th><th title=\"Quantity{Float64, 𝐓, Unitful.FreeUnits{(ns,), 𝐓, nothing}}\">Quantity…</th><th title=\"Quantity{Float64, 𝐓, Unitful.FreeUnits{(ns,), 𝐓, nothing}}\">Quantity…</th></tr></thead><tbody><tr><th>1</th><td>100000</td><td>1000</td><td>0.198046 ns</td><td>0.128424 ns</td></tr><tr><th>2</th><td>200000</td><td>1000</td><td>0.421394 ns</td><td>0.193097 ns</td></tr><tr><th>3</th><td>300000</td><td>1000</td><td>0.593973 ns</td><td>0.330073 ns</td></tr><tr><th>4</th><td>400000</td><td>1000</td><td>1.37359 ns</td><td>0.486547 ns</td></tr><tr><th>5</th><td>500000</td><td>1000</td><td>1.3629 ns</td><td>0.71286 ns</td></tr><tr><th>6</th><td>600000</td><td>1000</td><td>2.32409 ns</td><td>0.903678 ns</td></tr><tr><th>7</th><td>700000</td><td>1000</td><td>2.05142 ns</td><td>1.09603 ns</td></tr><tr><th>8</th><td>800000</td><td>1000</td><td>2.74295 ns</td><td>1.181 ns</td></tr><tr><th>9</th><td>900000</td><td>1000</td><td>2.81873 ns</td><td>1.63796 ns</td></tr><tr><th>10</th><td>1000000</td><td>1000</td><td>3.18174 ns</td><td>1.99179 ns</td></tr></tbody></table></div>"
      ],
      "text/latex": [
       "\\begin{tabular}{r|cccc}\n",
       "\t& n\\_elements & k\\_operations & SinglyLinkedList & DoublyLinkedList\\\\\n",
       "\t\\hline\n",
       "\t& Int64 & Int64 & Quantity… & Quantity…\\\\\n",
       "\t\\hline\n",
       "\t1 & 100000 & 1000 & 0.198046 ns & 0.128424 ns \\\\\n",
       "\t2 & 200000 & 1000 & 0.421394 ns & 0.193097 ns \\\\\n",
       "\t3 & 300000 & 1000 & 0.593973 ns & 0.330073 ns \\\\\n",
       "\t4 & 400000 & 1000 & 1.37359 ns & 0.486547 ns \\\\\n",
       "\t5 & 500000 & 1000 & 1.3629 ns & 0.71286 ns \\\\\n",
       "\t6 & 600000 & 1000 & 2.32409 ns & 0.903678 ns \\\\\n",
       "\t7 & 700000 & 1000 & 2.05142 ns & 1.09603 ns \\\\\n",
       "\t8 & 800000 & 1000 & 2.74295 ns & 1.181 ns \\\\\n",
       "\t9 & 900000 & 1000 & 2.81873 ns & 1.63796 ns \\\\\n",
       "\t10 & 1000000 & 1000 & 3.18174 ns & 1.99179 ns \\\\\n",
       "\\end{tabular}\n"
      ],
      "text/plain": [
       "\u001b[1m10×4 DataFrame\u001b[0m\n",
       "\u001b[1m Row \u001b[0m│\u001b[1m n_elements \u001b[0m\u001b[1m k_operations \u001b[0m\u001b[1m SinglyLinkedList \u001b[0m\u001b[1m DoublyLinkedList \u001b[0m\n",
       "\u001b[1m     \u001b[0m│\u001b[90m Int64      \u001b[0m\u001b[90m Int64        \u001b[0m\u001b[90m Quantity…        \u001b[0m\u001b[90m Quantity…        \u001b[0m\n",
       "─────┼──────────────────────────────────────────────────────────────\n",
       "   1 │     100000          1000       0.198046 ns       0.128424 ns\n",
       "   2 │     200000          1000       0.421394 ns       0.193097 ns\n",
       "   3 │     300000          1000       0.593973 ns       0.330073 ns\n",
       "   4 │     400000          1000        1.37359 ns       0.486547 ns\n",
       "   5 │     500000          1000         1.3629 ns        0.71286 ns\n",
       "   6 │     600000          1000        2.32409 ns       0.903678 ns\n",
       "   7 │     700000          1000        2.05142 ns        1.09603 ns\n",
       "   8 │     800000          1000        2.74295 ns          1.181 ns\n",
       "   9 │     900000          1000        2.81873 ns        1.63796 ns\n",
       "  10 │    1000000          1000        3.18174 ns        1.99179 ns"
      ]
     },
     "metadata": {},
     "output_type": "display_data"
    }
   ],
   "source": [
    "df = DataFrame([[benchvector[k][kk] for k in 1:length(benchvector)] for kk in 1:length(benchvector[1])], [:n_elements, :k_operations, :SinglyLinkedList, :DoublyLinkedList])"
   ]
  },
  {
   "cell_type": "code",
   "execution_count": 11,
   "id": "7fe58d3c",
   "metadata": {},
   "outputs": [],
   "source": [
    "# todo: Plots form df"
   ]
  },
  {
   "cell_type": "code",
   "execution_count": 10,
   "id": "25931249",
   "metadata": {},
   "outputs": [
    {
     "name": "stdout",
     "output_type": "stream",
     "text": [
      "[7, 2, 4, 3, 7]\n",
      "sll\n",
      "10 62 7 33 93 49 55 61 24 81 \n",
      "55 10 62 7 33 93 49 61 24 81 \n",
      "10 55 62 7 33 93 49 61 24 81 \n",
      "7 10 55 62 33 93 49 61 24 81 \n",
      "55 7 10 62 33 93 49 61 24 81 \n",
      "49 55 7 10 62 33 93 61 24 81 \n",
      "[7, 2, 4, 3, 7]\n",
      "dll\n",
      "74 60 66 67 27 82 2 43 95 19 \n",
      "2 74 60 66 67 27 82 43 95 19 \n",
      "74 2 60 66 67 27 82 43 95 19 \n",
      "66 74 2 60 67 27 82 43 95 19 \n",
      "2 66 74 60 67 27 82 43 95 19 \n",
      "82 2 66 74 60 67 27 43 95 19 \n"
     ]
    }
   ],
   "source": [
    "# just checking that the functions work properly  \n",
    "k = 5\n",
    "n = 10\n",
    "sequence_vector = createrandomvector(k, n)\n",
    "singlylinked_list = createrandom_sllist(n)\n",
    "doublylinked_list = createrandom_dllist(n)\n",
    "\n",
    "println(sequence_vector)\n",
    "println(\"sll\")\n",
    "println(singlylinked_list)\n",
    "for i in eachindex(sequence_vector)\n",
    "    pushfirst!(singlylinked_list, popat!(singlylinked_list, sequence_vector[i]))\n",
    "    println(singlylinked_list)\n",
    "end\n",
    "\n",
    "println(sequence_vector)\n",
    "println(\"dll\")\n",
    "println(doublylinked_list)\n",
    "for i in eachindex(sequence_vector)\n",
    "    pushfirst!(doublylinked_list, popat!(doublylinked_list, sequence_vector[i]))\n",
    "    println(doublylinked_list)\n",
    "end"
   ]
  },
  {
   "cell_type": "code",
   "execution_count": 9,
   "id": "9bf6f086",
   "metadata": {},
   "outputs": [],
   "source": []
  }
 ],
 "metadata": {
  "kernelspec": {
   "display_name": "Julia 1.8.0",
   "language": "julia",
   "name": "julia-1.8"
  },
  "language_info": {
   "file_extension": ".jl",
   "mimetype": "application/julia",
   "name": "julia",
   "version": "1.8.0"
  }
 },
 "nbformat": 4,
 "nbformat_minor": 5
}
